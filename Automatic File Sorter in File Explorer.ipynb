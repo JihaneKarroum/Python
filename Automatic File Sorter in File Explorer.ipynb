{
 "cells": [
  {
   "cell_type": "markdown",
   "id": "3bf35f65-8c68-4cf4-872c-b48cec106136",
   "metadata": {},
   "source": [
    "# Automatic File Sorter in File Explorer"
   ]
  },
  {
   "cell_type": "code",
   "execution_count": 106,
   "id": "feb65d5a-f7dd-48f0-aff4-65b8fdfe569a",
   "metadata": {},
   "outputs": [],
   "source": [
    "import os, shutil"
   ]
  },
  {
   "cell_type": "code",
   "execution_count": 108,
   "id": "5debc604-1543-401a-a291-0032a30b6731",
   "metadata": {},
   "outputs": [],
   "source": [
    "path = r\"D:\\Data Analyst Bootcamp\\Python\\File Sorter\""
   ]
  },
  {
   "cell_type": "code",
   "execution_count": 110,
   "id": "1b87ab72-9a6c-4fd0-92e5-8b477f7b142c",
   "metadata": {},
   "outputs": [],
   "source": [
    "# 1. Create folder\n",
    "# 2. Check the extension of the files\n",
    "# 3. Move the file to the right folder"
   ]
  },
  {
   "cell_type": "code",
   "execution_count": 128,
   "id": "e1277ae0-f5ef-4104-b28f-3e4b82340d54",
   "metadata": {},
   "outputs": [],
   "source": [
    "#os.listdir(path)"
   ]
  },
  {
   "cell_type": "code",
   "execution_count": 120,
   "id": "78699410-b1e3-4a70-862f-ee56c0fb6da7",
   "metadata": {},
   "outputs": [
    {
     "ename": "FileExistsError",
     "evalue": "[WinError 183] Impossible de créer un fichier déjà existant: 'D:\\\\Data Analyst Bootcamp\\\\Python\\\\File Sorter\\\\csv files'",
     "output_type": "error",
     "traceback": [
      "\u001b[1;31m---------------------------------------------------------------------------\u001b[0m",
      "\u001b[1;31mFileExistsError\u001b[0m                           Traceback (most recent call last)",
      "Cell \u001b[1;32mIn[120], line 4\u001b[0m\n\u001b[0;32m      2\u001b[0m \u001b[38;5;28;01mfor\u001b[39;00m folder \u001b[38;5;129;01min\u001b[39;00m \u001b[38;5;28mrange\u001b[39m(\u001b[38;5;241m0\u001b[39m,\u001b[38;5;241m3\u001b[39m):\n\u001b[0;32m      3\u001b[0m     \u001b[38;5;28;01mif\u001b[39;00m \u001b[38;5;129;01mnot\u001b[39;00m os\u001b[38;5;241m.\u001b[39mpath\u001b[38;5;241m.\u001b[39mexists(path \u001b[38;5;241m+\u001b[39m folder_names[folder]):\n\u001b[1;32m----> 4\u001b[0m         \u001b[43mos\u001b[49m\u001b[38;5;241;43m.\u001b[39;49m\u001b[43mmakedirs\u001b[49m\u001b[43m(\u001b[49m\u001b[43mpath\u001b[49m\u001b[43m \u001b[49m\u001b[38;5;241;43m+\u001b[39;49m\u001b[43m \u001b[49m\u001b[38;5;124;43m\"\u001b[39;49m\u001b[38;5;130;43;01m\\\\\u001b[39;49;00m\u001b[38;5;124;43m\"\u001b[39;49m\u001b[43m \u001b[49m\u001b[38;5;241;43m+\u001b[39;49m\u001b[43m \u001b[49m\u001b[43mfolder_names\u001b[49m\u001b[43m[\u001b[49m\u001b[43mfolder\u001b[49m\u001b[43m]\u001b[49m\u001b[43m)\u001b[49m\n",
      "File \u001b[1;32m<frozen os>:225\u001b[0m, in \u001b[0;36mmakedirs\u001b[1;34m(name, mode, exist_ok)\u001b[0m\n",
      "\u001b[1;31mFileExistsError\u001b[0m: [WinError 183] Impossible de créer un fichier déjà existant: 'D:\\\\Data Analyst Bootcamp\\\\Python\\\\File Sorter\\\\csv files'"
     ]
    }
   ],
   "source": [
    "folder_names = ['csv files', 'image files', 'text files']\n",
    "for folder in range(0,3):\n",
    "    if not os.path.exists(path + folder_names[folder]):\n",
    "        os.makedirs(path + \"\\\\\" + folder_names[folder])"
   ]
  },
  {
   "cell_type": "code",
   "execution_count": 126,
   "id": "8bdafa76-e203-4ff5-b7ec-95cedddd6d4a",
   "metadata": {},
   "outputs": [
    {
     "name": "stdout",
     "output_type": "stream",
     "text": [
      "There are files in this path that were not moved!\n",
      "There are files in this path that were not moved!\n",
      "There are files in this path that were not moved!\n"
     ]
    }
   ],
   "source": [
    "file_names = os.listdir(path)\n",
    "extension = []\n",
    "for file in file_names : \n",
    "    if(\".csv\" in file and not os.path.exists(path + \"\\\\csv files\\\\\" + file)):\n",
    "       shutil.move(path + \"\\\\\" + file, path + \"\\\\csv files\\\\\" + file)\n",
    "    elif(\".png\" in file and not os.path.exists(path + \"\\\\image files\\\\\" + file)):\n",
    "       shutil.move(path + \"\\\\\" + file, path + \"\\\\image files\\\\\" + file)\n",
    "    elif(\".txt\" in file and not os.path.exists(path + \"\\\\text files\\\\\" + file)):\n",
    "       shutil.move(path + \"\\\\\" + file, path + \"\\\\text files\\\\\" + file)\n"
   ]
  },
  {
   "cell_type": "code",
   "execution_count": null,
   "id": "4f8ee9eb-f86c-4bfc-817c-3b592f5dcb20",
   "metadata": {},
   "outputs": [],
   "source": []
  }
 ],
 "metadata": {
  "kernelspec": {
   "display_name": "Python 3 (ipykernel)",
   "language": "python",
   "name": "python3"
  },
  "language_info": {
   "codemirror_mode": {
    "name": "ipython",
    "version": 3
   },
   "file_extension": ".py",
   "mimetype": "text/x-python",
   "name": "python",
   "nbconvert_exporter": "python",
   "pygments_lexer": "ipython3",
   "version": "3.12.7"
  }
 },
 "nbformat": 4,
 "nbformat_minor": 5
}
