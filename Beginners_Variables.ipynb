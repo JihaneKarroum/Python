{
 "cells": [
  {
   "cell_type": "markdown",
   "id": "1ddc0f7a-054a-4cf0-8169-ccaab1726774",
   "metadata": {},
   "source": [
    "# Variables in Python"
   ]
  },
  {
   "cell_type": "code",
   "execution_count": 8,
   "id": "40e66ca8-b3b5-4299-80fa-b400ca292d03",
   "metadata": {},
   "outputs": [
    {
     "name": "stdout",
     "output_type": "stream",
     "text": [
      "22\n"
     ]
    }
   ],
   "source": [
    "x = 22\n",
    "print(x)"
   ]
  },
  {
   "cell_type": "code",
   "execution_count": 10,
   "id": "94de77a5-d25b-4898-afa6-4d4ea37e534a",
   "metadata": {},
   "outputs": [
    {
     "data": {
      "text/plain": [
       "int"
      ]
     },
     "execution_count": 10,
     "metadata": {},
     "output_type": "execute_result"
    }
   ],
   "source": [
    "type(x)"
   ]
  },
  {
   "cell_type": "code",
   "execution_count": 12,
   "id": "06d5163a-289b-421c-926f-8031947ba8b5",
   "metadata": {},
   "outputs": [
    {
     "name": "stdout",
     "output_type": "stream",
     "text": [
      "Something fun\n"
     ]
    }
   ],
   "source": [
    "y = 'Something fun'\n",
    "print(y)"
   ]
  },
  {
   "cell_type": "code",
   "execution_count": 14,
   "id": "b28f7eca-1d2b-4a7b-9aa5-13d8fed76d15",
   "metadata": {},
   "outputs": [
    {
     "data": {
      "text/plain": [
       "str"
      ]
     },
     "execution_count": 14,
     "metadata": {},
     "output_type": "execute_result"
    }
   ],
   "source": [
    "type(y)"
   ]
  },
  {
   "cell_type": "code",
   "execution_count": 18,
   "id": "8e76ff98-b65b-4add-b8ba-6ad76be4a288",
   "metadata": {},
   "outputs": [
    {
     "name": "stdout",
     "output_type": "stream",
     "text": [
      "Chocolat\n"
     ]
    }
   ],
   "source": [
    "y = 'Chocolat'\n",
    "print(y)"
   ]
  },
  {
   "cell_type": "code",
   "execution_count": 20,
   "id": "305b8d3d-6ad6-4fdd-ad86-c475053bc000",
   "metadata": {},
   "outputs": [
    {
     "name": "stdout",
     "output_type": "stream",
     "text": [
      "Chocolat\n",
      "Vanilla\n",
      "Rocky Road\n"
     ]
    }
   ],
   "source": [
    "x, y, z = 'Chocolat', 'Vanilla', 'Rocky Road'\n",
    "\n",
    "print(x)\n",
    "print(y)\n",
    "print(z)"
   ]
  },
  {
   "cell_type": "code",
   "execution_count": 22,
   "id": "5b0b5300-ac13-4e86-bb6c-c0fed8fcf9b4",
   "metadata": {},
   "outputs": [
    {
     "name": "stdout",
     "output_type": "stream",
     "text": [
      "Root Beer Float\n",
      "Root Beer Float\n",
      "Root Beer Float\n"
     ]
    }
   ],
   "source": [
    "x = y = z = 'Root Beer Float'\n",
    "\n",
    "print(x)\n",
    "print(y)\n",
    "print(z)"
   ]
  },
  {
   "cell_type": "code",
   "execution_count": 24,
   "id": "644cea58-f128-4531-8093-8d8ddd45a1ab",
   "metadata": {},
   "outputs": [
    {
     "name": "stdout",
     "output_type": "stream",
     "text": [
      "Chocolat\n",
      "Vanilla\n",
      "Rocky Road\n"
     ]
    }
   ],
   "source": [
    "ice_cream = ['Chocolat', 'Vanilla', 'Rocky Road']\n",
    "\n",
    "x, y ,z = ice_cream\n",
    "\n",
    "print(x)\n",
    "print(y)\n",
    "print(z)"
   ]
  },
  {
   "cell_type": "markdown",
   "id": "d8b8f4bd-9c00-4533-9186-a209cd6df7f7",
   "metadata": {},
   "source": [
    "# Variables Names"
   ]
  },
  {
   "cell_type": "code",
   "execution_count": 35,
   "id": "957b353f-5f1e-4e04-838a-e59b14a25434",
   "metadata": {},
   "outputs": [],
   "source": [
    "# Camel Case\n",
    "\n",
    "# Test Variable Case\n",
    "testVariableCase = 'Vanila Swirl'"
   ]
  },
  {
   "cell_type": "code",
   "execution_count": 37,
   "id": "8cf240e5-2361-49ab-b963-ef4f63dc5f01",
   "metadata": {},
   "outputs": [],
   "source": [
    "# Pascal Case\n",
    "\n",
    "# Test Variable Case\n",
    "TestVariableCase = 'Vanila Swirl'"
   ]
  },
  {
   "cell_type": "code",
   "execution_count": 39,
   "id": "8eed5cdd-3776-4a91-b8be-27a8cf12eab3",
   "metadata": {},
   "outputs": [],
   "source": [
    "# Snake Case\n",
    "\n",
    "# Test Variable Case\n",
    "test_variable_case = 'Vanila Swirl'"
   ]
  },
  {
   "cell_type": "code",
   "execution_count": 41,
   "id": "92fbb491-ca12-4991-b612-cedd695da60e",
   "metadata": {},
   "outputs": [],
   "source": [
    "testvar = 'Vanila Swirl'\n",
    "testVar = 'Vanila Swirl'\n",
    "_test_var = 'Vanila Swirl'\n",
    "test_var = 'Vanila Swirl'\n",
    "TestVar = 'Vanila Swirl'\n",
    "TestVar2 = 'Vanila Swirl'"
   ]
  },
  {
   "cell_type": "code",
   "execution_count": 47,
   "id": "72292c9a-2b26-4f82-9bcc-21f26942c623",
   "metadata": {},
   "outputs": [
    {
     "name": "stdout",
     "output_type": "stream",
     "text": [
      "Ice Cream is my favorite.\n"
     ]
    }
   ],
   "source": [
    "x = 'Ice Cream is my favorite' + '.'\n",
    "\n",
    "print(x)"
   ]
  },
  {
   "cell_type": "code",
   "execution_count": 51,
   "id": "8e18fa0d-25e9-4c93-9937-55c50acfbdb0",
   "metadata": {},
   "outputs": [
    {
     "name": "stdout",
     "output_type": "stream",
     "text": [
      "5\n"
     ]
    }
   ],
   "source": [
    "y = 3 + 2\n",
    "\n",
    "print(y)"
   ]
  },
  {
   "cell_type": "code",
   "execution_count": 53,
   "id": "88535931-e918-44be-859c-30ee581b8d8e",
   "metadata": {},
   "outputs": [
    {
     "name": "stdout",
     "output_type": "stream",
     "text": [
      "Ice Cream is my favorite.\n"
     ]
    }
   ],
   "source": [
    "x = 'Ice Cream'\n",
    "y = 'is'\n",
    "z = 'my favorite.'\n",
    "\n",
    "print(x + ' ' + y + ' ' + z)"
   ]
  },
  {
   "cell_type": "code",
   "execution_count": null,
   "id": "951eddc2-ac69-4fde-b029-6ad338e2c541",
   "metadata": {},
   "outputs": [],
   "source": [
    "x = 1\n",
    "y = 2\n",
    "z = 3\n",
    "\n",
    "print(x + ' ' + y + ' ' + z)"
   ]
  }
 ],
 "metadata": {
  "kernelspec": {
   "display_name": "Python 3 (ipykernel)",
   "language": "python",
   "name": "python3"
  },
  "language_info": {
   "codemirror_mode": {
    "name": "ipython",
    "version": 3
   },
   "file_extension": ".py",
   "mimetype": "text/x-python",
   "name": "python",
   "nbconvert_exporter": "python",
   "pygments_lexer": "ipython3",
   "version": "3.12.7"
  }
 },
 "nbformat": 4,
 "nbformat_minor": 5
}
