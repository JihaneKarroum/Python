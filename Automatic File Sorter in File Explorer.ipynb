{
 "cells": [
  {
   "cell_type": "markdown",
   "id": "3bf35f65-8c68-4cf4-872c-b48cec106136",
   "metadata": {},
   "source": [
    "# Automatic File Sorter in File Explorer"
   ]
  },
  {
   "cell_type": "code",
   "execution_count": 1,
   "id": "feb65d5a-f7dd-48f0-aff4-65b8fdfe569a",
   "metadata": {},
   "outputs": [],
   "source": [
    "import os, shutil"
   ]
  },
  {
   "cell_type": "code",
   "execution_count": 2,
   "id": "5debc604-1543-401a-a291-0032a30b6731",
   "metadata": {},
   "outputs": [],
   "source": [
    "path = r\"D:\\Data Analyst Bootcamp\\Python\\File Sorter\""
   ]
  },
  {
   "cell_type": "code",
   "execution_count": 3,
   "id": "1b87ab72-9a6c-4fd0-92e5-8b477f7b142c",
   "metadata": {},
   "outputs": [],
   "source": [
    "# 1. Create folder\n",
    "# 2. Check the extension of the files\n",
    "# 3. Move the file to the right folder"
   ]
  },
  {
   "cell_type": "code",
   "execution_count": 4,
   "id": "e1277ae0-f5ef-4104-b28f-3e4b82340d54",
   "metadata": {},
   "outputs": [],
   "source": [
    "#os.listdir(path)"
   ]
  },
  {
   "cell_type": "code",
   "execution_count": 5,
   "id": "78699410-b1e3-4a70-862f-ee56c0fb6da7",
   "metadata": {},
   "outputs": [],
   "source": [
    "folder_names = ['csv files', 'image files', 'text files']\n",
    "for folder in range(0,3):\n",
    "    if not os.path.exists(path + folder_names[folder]):\n",
    "        os.makedirs(path + \"\\\\\" + folder_names[folder])"
   ]
  },
  {
   "cell_type": "code",
   "execution_count": 6,
   "id": "8bdafa76-e203-4ff5-b7ec-95cedddd6d4a",
   "metadata": {},
   "outputs": [],
   "source": [
    "file_names = os.listdir(path)\n",
    "extension = []\n",
    "for file in file_names : \n",
    "    if(\".csv\" in file and not os.path.exists(path + \"\\\\csv files\\\\\" + file)):\n",
    "       shutil.move(path + \"\\\\\" + file, path + \"\\\\csv files\\\\\" + file)\n",
    "    elif(\".png\" in file and not os.path.exists(path + \"\\\\image files\\\\\" + file)):\n",
    "       shutil.move(path + \"\\\\\" + file, path + \"\\\\image files\\\\\" + file)\n",
    "    elif(\".txt\" in file and not os.path.exists(path + \"\\\\text files\\\\\" + file)):\n",
    "       shutil.move(path + \"\\\\\" + file, path + \"\\\\text files\\\\\" + file)\n"
   ]
  },
  {
   "cell_type": "code",
   "execution_count": null,
   "id": "4f8ee9eb-f86c-4bfc-817c-3b592f5dcb20",
   "metadata": {},
   "outputs": [],
   "source": []
  }
 ],
 "metadata": {
  "kernelspec": {
   "display_name": "Python 3",
   "language": "python",
   "name": "python3"
  },
  "language_info": {
   "codemirror_mode": {
    "name": "ipython",
    "version": 3
   },
   "file_extension": ".py",
   "mimetype": "text/x-python",
   "name": "python",
   "nbconvert_exporter": "python",
   "pygments_lexer": "ipython3",
   "version": "3.12.0"
  }
 },
 "nbformat": 4,
 "nbformat_minor": 5
}
